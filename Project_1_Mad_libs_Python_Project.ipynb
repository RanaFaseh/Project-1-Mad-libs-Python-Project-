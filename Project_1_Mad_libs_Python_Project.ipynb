{
  "nbformat": 4,
  "nbformat_minor": 0,
  "metadata": {
    "colab": {
      "provenance": [],
      "authorship_tag": "ABX9TyPgBgSqpKVtpJbPfNbRNfD7",
      "include_colab_link": true
    },
    "kernelspec": {
      "name": "python3",
      "display_name": "Python 3"
    },
    "language_info": {
      "name": "python"
    }
  },
  "cells": [
    {
      "cell_type": "markdown",
      "metadata": {
        "id": "view-in-github",
        "colab_type": "text"
      },
      "source": [
        "<a href=\"https://colab.research.google.com/github/RanaFaseh/Project-1-Mad-libs-Python-Project-/blob/main/Project_1_Mad_libs_Python_Project.ipynb\" target=\"_parent\"><img src=\"https://colab.research.google.com/assets/colab-badge.svg\" alt=\"Open In Colab\"/></a>"
      ]
    },
    {
      "cell_type": "code",
      "source": [
        "print(\"Assalam-O-Alikum\")\n",
        "print(\"My Madlibs Topic is A Visit To Karachi Zoo\")\n",
        "day = input(\" Enter a day \") #Sunday\n",
        "place = input(\" Enter a place \") #Karachi Zoo\n",
        "birds = input(\" Enter two birds \") #Parrots & Peacocks\n",
        "animal = input(\" Enter a animal \") #Lion\n",
        "animal1 = input(\" Enter a animal \") #Tiger\n",
        "animal2 = input(\" Enter a animal \") #Elephant\n",
        "noun = input(\" noun \") #animals\n",
        "bird1 = input(\" Enter a bird \") #ducks\n",
        "noun = input(\" noun \") #nature & wildlife\n",
        "\n",
        "madlibs = f\"\"\" Last {day} I visited the {place} and\n",
        " had an amazing time. I saw colorful {birds}, {animal}, a\n",
        " {animal1}, and a {animal2} . The {noun} were playful,\n",
        " and the {bird1} by the pond were floating . It was a delightful journey , filled\n",
        " with the beauty of {noun}! \"\"\"\n",
        "\n",
        "print(madlibs)"
      ],
      "metadata": {
        "colab": {
          "base_uri": "https://localhost:8080/"
        },
        "id": "ChW6Fqg1RbxZ",
        "outputId": "ab44e2c6-3c56-4471-8feb-a6b8f29b92b5"
      },
      "execution_count": null,
      "outputs": [
        {
          "output_type": "stream",
          "name": "stdout",
          "text": [
            "Assalam-O-Alikum\n",
            "My Madlibs Topic is A Visit To Karachi Zoo\n",
            " Enter a day friday \n",
            " Enter a place karachi zoo\n",
            " Enter two birds parrots and peacocks \n",
            " Enter a animal lion\n",
            " Enter a animal tiger\n",
            " Enter a animal elephant\n",
            " noun animals \n",
            " Enter a bird ducks \n",
            " noun nature and wildlife \n",
            " Last friday  I visited the karachi zoo and \n",
            " had an amazing time. I saw colorful parrots and peacocks , lion, a \n",
            " tiger, and a elephant . The nature and wildlife  were playful,\n",
            " and the ducks  by the pond were floating . It was a delightful journey , filled \n",
            " with the beauty of nature & wildlife ! \n"
          ]
        }
      ]
    }
  ]
}